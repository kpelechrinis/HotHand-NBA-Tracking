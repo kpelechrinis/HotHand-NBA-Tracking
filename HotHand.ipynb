{
 "cells": [
  {
   "cell_type": "code",
   "execution_count": 1,
   "metadata": {},
   "outputs": [
    {
     "name": "stderr",
     "output_type": "stream",
     "text": [
      "Using TensorFlow backend.\n"
     ]
    }
   ],
   "source": [
    "import numpy as np\n",
    "import scipy as sp\n",
    "import pandas as pd\n",
    "from scipy import stats\n",
    "import os\n",
    "import keras\n",
    "from keras.utils import to_categorical\n",
    "from keras import Sequential\n",
    "from keras.layers import Dense\n",
    "from keras.callbacks import EarlyStopping\n",
    "from keras.callbacks import ModelCheckpoint\n",
    "from sklearn.model_selection import train_test_split\n",
    "import matplotlib.pyplot as plt\n",
    "from sklearn.metrics import brier_score_loss\n",
    "from sklearn.calibration import calibration_curve\n",
    "import warnings\n",
    "warnings.filterwarnings(\"ignore\")\n",
    "\n",
    "# The following data are obtained from https://github.com/hwchase17/sportvu\n",
    "\n",
    "data13 = pd.read_csv(\"https://raw.githubusercontent.com/hwchase17/sportvu/master/joined_shots_2013.csv\")\n",
    "data13['season'] = ['2013' for _ in range(len(data13))]\n",
    "data14 = pd.read_csv(\"https://raw.githubusercontent.com/hwchase17/sportvu/master/joined_shots_2014.csv\")\n",
    "data14['season'] = ['2014' for _ in range(len(data14))]\n",
    "\n",
    "\n",
    "data = pd.concat([data13,data14],ignore_index=True)\n",
    "data = data[data[\"TOUCH_TIME\"] >= 0]\n"
   ]
  },
  {
   "cell_type": "code",
   "execution_count": 2,
   "metadata": {},
   "outputs": [
    {
     "name": "stdout",
     "output_type": "stream",
     "text": [
      "WARNING:tensorflow:From /Users/kpele/anaconda3/lib/python3.6/site-packages/tensorflow/python/framework/op_def_library.py:263: colocate_with (from tensorflow.python.framework.ops) is deprecated and will be removed in a future version.\n",
      "Instructions for updating:\n",
      "Colocations handled automatically by placer.\n",
      "WARNING:tensorflow:From /Users/kpele/anaconda3/lib/python3.6/site-packages/tensorflow/python/ops/math_ops.py:3066: to_int32 (from tensorflow.python.ops.math_ops) is deprecated and will be removed in a future version.\n",
      "Instructions for updating:\n",
      "Use tf.cast instead.\n",
      "Train on 150496 samples, validate on 37624 samples\n",
      "Epoch 1/30\n",
      "150496/150496 [==============================] - 89s 591us/step - loss: 0.6236 - acc: 0.6510 - val_loss: 0.6174 - val_acc: 0.6565\n",
      "Epoch 2/30\n",
      "150496/150496 [==============================] - 102s 680us/step - loss: 0.6093 - acc: 0.6609 - val_loss: 0.6156 - val_acc: 0.6586\n",
      "Epoch 3/30\n",
      "150496/150496 [==============================] - 88s 584us/step - loss: 0.6026 - acc: 0.6650 - val_loss: 0.6203 - val_acc: 0.6571\n",
      "Epoch 4/30\n",
      "150496/150496 [==============================] - 90s 597us/step - loss: 0.5955 - acc: 0.6701 - val_loss: 0.6199 - val_acc: 0.6561\n"
     ]
    },
    {
     "data": {
      "text/plain": [
       "<keras.callbacks.History at 0x111849358>"
      ]
     },
     "execution_count": 2,
     "metadata": {},
     "output_type": "execute_result"
    }
   ],
   "source": [
    "os.environ['KMP_DUPLICATE_LIB_OK']='True'\n",
    "\n",
    "data = data[[\"CLOSE_DEF_DIST\",\"DRIBBLES\",\"SHOT_DIST\",\"SHOT_CLOCK\",\"TOUCH_TIME\",\"CLOSEST_DEFENDER_PLAYER_ID\",\"PLAYER_ID\",\"ACTION_TYPE\",\"SHOT_MADE_FLAG\",'season']]\n",
    "data = pd.get_dummies(data,columns=[\"CLOSEST_DEFENDER_PLAYER_ID\",\"PLAYER_ID\",\"ACTION_TYPE\"],prefix=[\"CLOSEST_DEFENDER_PLAYER_ID\",\"PLAYER_ID\",\"ACTION_TYPE\"])\n",
    "data = data.dropna()\n",
    "data = data[data['season'] == '2013']\n",
    "\n",
    "data = data.drop(['season'], axis = 1)\n",
    "\n",
    "train_X = data.drop(['SHOT_MADE_FLAG'],axis = 1)\n",
    "train_y = to_categorical(data['SHOT_MADE_FLAG'])\n",
    "\n",
    "\n",
    "early_stopping_monitor = EarlyStopping(patience=3,min_delta = 0.1,monitor='val_acc')\n",
    "model_check_point = ModelCheckpoint(\"shot_make_model/model_sm.{epoch:02d}-{val_acc:.2f}.hdf5\",monitor = 'val_acc',mode = 'max',save_best_only = True)\n",
    "\n",
    "model= Sequential()\n",
    "n_cols = train_X.shape[1]\n",
    "model.add(Dense(250, activation='relu', input_shape=(n_cols,)))\n",
    "model.add(Dense(250, activation='relu'))\n",
    "model.add(Dense(250, activation='relu'))\n",
    "model.add(Dense(250, activation='relu'))\n",
    "model.add(Dense(2, activation='softmax'))\n",
    "model.compile(optimizer='adam', loss='categorical_crossentropy', metrics=['accuracy'])\n",
    "model.fit(train_X, train_y, epochs=30,validation_split=0.2, callbacks=[model_check_point,early_stopping_monitor])"
   ]
  },
  {
   "cell_type": "code",
   "execution_count": 3,
   "metadata": {},
   "outputs": [
    {
     "name": "stdout",
     "output_type": "stream",
     "text": [
      "Test set accuracy:  0.657110970884419\n",
      "The model's brier score is:  0.21556308994141607\n",
      "The climatology's brier score is:  0.24782561508100734\n"
     ]
    },
    {
     "data": {
      "image/png": "[encoded data removed]",
      "text/plain": [
       "<Figure size 432x288 with 1 Axes>"
      ]
     },
     "metadata": {
      "needs_background": "light"
     },
     "output_type": "display_data"
    }
   ],
   "source": [
    "# out-of-sample accuracy (2014-15 season)\n",
    "# load the best model \n",
    "\n",
    "#m = [f for f in sorted(os.listdir('shot_make_model')) if 'hdf5' in f][-1]\n",
    "#model = keras.models.load_model('shot_make_model/'+m)\n",
    "\n",
    "# reload the data for both seasons in order to create the correct dummy variables \n",
    "data13 = pd.read_csv(\"https://raw.githubusercontent.com/hwchase17/sportvu/master/joined_shots_2013.csv\")\n",
    "data13['season'] = ['2013' for _ in range(len(data13))]\n",
    "data14 = pd.read_csv(\"https://raw.githubusercontent.com/hwchase17/sportvu/master/joined_shots_2014.csv\")\n",
    "data14['season'] = ['2014' for _ in range(len(data14))]\n",
    "data = pd.concat([data13,data14],ignore_index=True)\n",
    "data = data[data[\"TOUCH_TIME\"] >= 0]\n",
    "test = data\n",
    "test = test[[\"CLOSE_DEF_DIST\",\"DRIBBLES\",\"SHOT_DIST\",\"SHOT_CLOCK\",\"TOUCH_TIME\",\"CLOSEST_DEFENDER_PLAYER_ID\",\"PLAYER_ID\",\"ACTION_TYPE\",\"SHOT_MADE_FLAG\",\"season\"]]\n",
    "test = pd.get_dummies(test,columns=[\"CLOSEST_DEFENDER_PLAYER_ID\",\"PLAYER_ID\",\"ACTION_TYPE\"],prefix=[\"CLOSEST_DEFENDER_PLAYER_ID\",\"PLAYER_ID\",\"ACTION_TYPE\"])\n",
    "test = test[test['season']== '2014']\n",
    "test = test.drop(['season'],axis = 1)\n",
    "test = test.dropna()\n",
    "\n",
    "test_X = test.drop(['SHOT_MADE_FLAG'],axis =1)\n",
    "test_y = to_categorical(test['SHOT_MADE_FLAG'])\n",
    "test_y_predictions = model.predict(test_X)\n",
    "\n",
    "print(\"Test set accuracy: \",np.sum(np.round(test_y_predictions[:,1]) == test['SHOT_MADE_FLAG'])/test.shape[0])\n",
    "\n",
    "# brier score\n",
    "\n",
    "print(\"The model's brier score is: \",  brier_score_loss(test['SHOT_MADE_FLAG'],test_y_predictions[:,1]))\n",
    "print(\"The climatology's brier score is: \", brier_score_loss(test['SHOT_MADE_FLAG'],(sum(test['SHOT_MADE_FLAG'])/len(test))*np.ones(test.shape[0])))\n",
    "\n",
    "observed, predicted = calibration_curve(test['SHOT_MADE_FLAG'], test_y_predictions[:,1], n_bins = 10)\n",
    "\n",
    "fig = plt.figure()\n",
    "ax1 = fig.add_subplot(111)\n",
    "\n",
    "x = np.linspace(0,1,10000)\n",
    "y = x\n",
    "ax1.plot(x,y,'-.g',label=\"Perfect Calibration\")\n",
    "\n",
    "ax1.scatter(predicted,observed,s=20, c='b', marker=\"s\", label = \"Neural Net\")\n",
    "\n",
    "\n",
    "plt.xlabel(\"Predicted Shot Make Probability\")\n",
    "plt.ylabel(\"Observed Shot Make Probability\")\n",
    "plt.legend(loc='upper left');\n",
    "plt.show()"
   ]
  },
  {
   "cell_type": "code",
   "execution_count": 5,
   "metadata": {},
   "outputs": [
    {
     "name": "stdout",
     "output_type": "stream",
     "text": [
      "LaMarcus Aldridge 0.43656716417910446 0.40407244073696674 0.158\n",
      "Rudy Gay 0.43564356435643564 0.3905014718316884 0.19\n",
      "Pau Gasol 0.5416666666666666 0.4450575496269276 0.011\n",
      "Chris Paul 0.4873417721518987 0.4153074308560483 0.039\n",
      "Anthony Davis 0.6150793650793651 0.4947812322529841 0.0\n",
      "Damian Lillard 0.41919191919191917 0.3953719242042501 0.243\n",
      "Victor Oladipo 0.4358974358974359 0.4136955582551227 0.28400000000000003\n",
      "LeBron James 0.4555160142348754 0.4944658750167908 0.913\n",
      "Dwyane Wade 0.47368421052631576 0.48290254908071406 0.592\n",
      "Monta Ellis 0.41935483870967744 0.43145740299483465 0.626\n",
      "Russell Westbrook 0.48148148148148145 0.4257793423797822 0.026000000000000002\n",
      "Andrew Wiggins 0.49473684210526314 0.4097479673182437 0.042\n",
      "Blake Griffin 0.425 0.427857104278166 0.537\n",
      "James Harden 0.4359861591695502 0.43268129285299656 0.465\n",
      "Tyreke Evans 0.42245989304812837 0.41932910790154365 0.485\n",
      "Stephen Curry 0.4774774774774775 0.4796196887375731 0.537\n",
      "John Wall 0.42857142857142855 0.41207175770007426 0.28200000000000003\n",
      "Dirk Nowitzki 0.5151515151515151 0.37210504002765915 0.008\n",
      "Kyrie Irving 0.46938775510204084 0.3921173596048816 0.01\n",
      "Klay Thompson 0.37383177570093457 0.4399487181066122 0.933\n",
      "Markieff Morris 0.5181818181818182 0.413866815615204 0.013000000000000001\n",
      "Nikola Vucevic 0.42342342342342343 0.42882350106119704 0.5630000000000001\n"
     ]
    }
   ],
   "source": [
    "data13 = pd.read_csv(\"https://raw.githubusercontent.com/hwchase17/sportvu/master/joined_shots_2013.csv\")\n",
    "data13['season'] = ['2013' for _ in range(len(data13))]\n",
    "data14 = pd.read_csv(\"https://raw.githubusercontent.com/hwchase17/sportvu/master/joined_shots_2014.csv\")\n",
    "data14['season'] = ['2014' for _ in range(len(data14))]\n",
    "data = pd.concat([data13,data14],ignore_index=True)\n",
    "data = data[data[\"TOUCH_TIME\"] >= 0]\n",
    "test = data\n",
    "test = test[test['season']== '2014']\n",
    "test = test.dropna()\n",
    "test['prob'] = test_y_predictions[:,1]\n",
    "\n",
    "shots_pl = test.groupby('PLAYER_ID')\n",
    "\n",
    "players = []\n",
    "\n",
    "for p in test['PLAYER_ID'].unique():\n",
    "    if len(shots_pl.get_group(p)) > 1000:\n",
    "        players.append(p)\n",
    "\n",
    "for p in players: \n",
    "    player_df = shots_pl.get_group(p)\n",
    "    player_df_games = player_df.groupby(\"GAME_ID\")\n",
    "    tt_true = 0\n",
    "    tf_true = 0\n",
    "    # find the games that we have full data for the player\n",
    "    games_p = []\n",
    "    for g in player_df['GAME_ID'].unique():\n",
    "        tmp = player_df_games.get_group(g)\n",
    "        if len(tmp.SHOT_NUMBER)-max(tmp.SHOT_NUMBER):\n",
    "            games_p.append(g)\n",
    "     \n",
    "    for g in games_p:\n",
    "        tmp = list(player_df_games.get_group(g)['SHOT_MADE_FLAG'])\n",
    "        for i in range(len(list(tmp))-1):\n",
    "            if list(tmp)[i] == 1:\n",
    "                if list(tmp)[i+1] == 1:\n",
    "                    tt_true+=1\n",
    "                else:\n",
    "                    tf_true+=1\n",
    "    tt_prob_sim = []\n",
    "    for _ in range(1000):\n",
    "        tt_sim=0\n",
    "        tf_sim=0\n",
    "        for g in games_p:\n",
    "            # sample binomial for each shot\n",
    "            probs = list(player_df_games.get_group(g)['prob'])\n",
    "            tmp = [np.random.binomial(1,probs[i]) for i in range(len(probs))]\n",
    "            for i in range(len(list(tmp))-1):\n",
    "                if list(tmp)[i] == 1:\n",
    "                    if list(tmp)[i+1] == 1:\n",
    "                        tt_sim += 1\n",
    "                    else:\n",
    "                        tf_sim+=1\n",
    "        tt_prob_sim.append(tt_sim/(tt_sim+tf_sim))\n",
    "    print(data[data['PLAYER_ID'] == p].reset_index().iloc[0]['PLAYER_NAME'],tt_true/(tt_true+tf_true),np.mean(tt_prob_sim),0.001*len([tt_prob_sim[i] for i in range(len(tt_prob_sim)) if tt_prob_sim[i]>(tt_true/(tt_true+tf_true))]))\n",
    "        "
   ]
  },
  {
   "cell_type": "markdown",
   "metadata": {},
   "source": [
    "# Example from Figure 1"
   ]
  },
  {
   "cell_type": "code",
   "execution_count": 6,
   "metadata": {},
   "outputs": [
    {
     "name": "stdout",
     "output_type": "stream",
     "text": [
      "0.6 0.47336666666666666 0.074\n"
     ]
    }
   ],
   "source": [
    "sequence = [1,1,1,0,0,1,1,0,0,0,0,1,1,0,0,1,1,1,0,0]\n",
    "\n",
    "tt_true = 0\n",
    "tf_true = 0\n",
    "for i in range(len(list(sequence))-1):\n",
    "    if list(sequence)[i] == 1:\n",
    "        if list(sequence)[i+1] == 1:\n",
    "            tt_true+=1\n",
    "        else:\n",
    "            tf_true+=1\n",
    "tt_prob_sim = []\n",
    "for _ in range(1000):\n",
    "    tt_sim=0\n",
    "    tf_sim=0\n",
    "    tmp = np.random.permutation(sequence)\n",
    "    for i in range(len(list(tmp))-1):\n",
    "        if list(tmp)[i] == 1:\n",
    "            if list(tmp)[i+1] == 1:\n",
    "                tt_sim += 1\n",
    "            else:\n",
    "                tf_sim+=1\n",
    "    tt_prob_sim.append(tt_sim/(tt_sim+tf_sim))\n",
    "print(tt_true/(tt_true+tf_true),np.mean(tt_prob_sim),0.001*len([tt_prob_sim[i] for i in range(len(tt_prob_sim)) if tt_prob_sim[i]>(tt_true/(tt_true+tf_true))]))\n",
    "        "
   ]
  },
  {
   "cell_type": "code",
   "execution_count": 7,
   "metadata": {},
   "outputs": [
    {
     "data": {
      "image/png": "[encoded data removed]",
      "text/plain": [
       "<Figure size 432x288 with 1 Axes>"
      ]
     },
     "metadata": {},
     "output_type": "display_data"
    }
   ],
   "source": [
    "import seaborn as sns, numpy as np\n",
    "\n",
    "sns.set(); np.random.seed(0)\n",
    "ax = sns.distplot(tt_prob_sim,hist=False,kde=True, \n",
    "             color = 'darkblue', \n",
    "             hist_kws={'edgecolor':'black'},\n",
    "             kde_kws={'linewidth': 4})"
   ]
  }
 ],
 "metadata": {
  "kernelspec": {
   "display_name": "Python 3",
   "language": "python",
   "name": "python3"
  },
  "language_info": {
   "codemirror_mode": {
    "name": "ipython",
    "version": 3
   },
   "file_extension": ".py",
   "mimetype": "text/x-python",
   "name": "python",
   "nbconvert_exporter": "python",
   "pygments_lexer": "ipython3",
   "version": "3.6.8"
  }
 },
 "nbformat": 4,
 "nbformat_minor": 2
}

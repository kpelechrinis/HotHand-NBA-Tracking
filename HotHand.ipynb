{
 "cells": [
  {
   "cell_type": "code",
   "execution_count": 1,
   "metadata": {},
   "outputs": [
    {
     "name": "stderr",
     "output_type": "stream",
     "text": [
      "Using TensorFlow backend.\n"
     ]
    }
   ],
   "source": [
    "import numpy as np\n",
    "import scipy as sp\n",
    "import pandas as pd\n",
    "from scipy import stats\n",
    "import os\n",
    "import keras\n",
    "from keras.utils import to_categorical\n",
    "from keras import Sequential\n",
    "from keras.layers import Dense\n",
    "from keras.callbacks import EarlyStopping\n",
    "from keras.callbacks import ModelCheckpoint\n",
    "from sklearn.model_selection import train_test_split\n",
    "import matplotlib.pyplot as plt\n",
    "from sklearn.metrics import brier_score_loss\n",
    "from sklearn.calibration import calibration_curve\n",
    "import warnings\n",
    "warnings.filterwarnings(\"ignore\")\n",
    "\n",
    "# The following data are obtained from https://github.com/hwchase17/sportvu\n",
    "\n",
    "data13 = pd.read_csv(\"https://raw.githubusercontent.com/hwchase17/sportvu/master/joined_shots_2013.csv\")\n",
    "data13['season'] = ['2013' for _ in range(len(data13))]\n",
    "data14 = pd.read_csv(\"https://raw.githubusercontent.com/hwchase17/sportvu/master/joined_shots_2014.csv\")\n",
    "data14['season'] = ['2014' for _ in range(len(data14))]\n",
    "\n",
    "\n",
    "data = pd.concat([data13,data14],ignore_index=True)\n",
    "data = data[data[\"TOUCH_TIME\"] >= 0]\n"
   ]
  },
  {
   "cell_type": "code",
   "execution_count": 2,
   "metadata": {},
   "outputs": [
    {
     "name": "stdout",
     "output_type": "stream",
     "text": [
      "WARNING:tensorflow:From /Users/kpele/anaconda3/lib/python3.6/site-packages/tensorflow/python/framework/op_def_library.py:263: colocate_with (from tensorflow.python.framework.ops) is deprecated and will be removed in a future version.\n",
      "Instructions for updating:\n",
      "Colocations handled automatically by placer.\n",
      "WARNING:tensorflow:From /Users/kpele/anaconda3/lib/python3.6/site-packages/tensorflow/python/ops/math_ops.py:3066: to_int32 (from tensorflow.python.ops.math_ops) is deprecated and will be removed in a future version.\n",
      "Instructions for updating:\n",
      "Use tf.cast instead.\n",
      "Train on 150496 samples, validate on 37624 samples\n",
      "Epoch 1/30\n",
      "150496/150496 [==============================] - 86s 568us/step - loss: 0.6232 - acc: 0.6506 - val_loss: 0.6167 - val_acc: 0.6596\n",
      "Epoch 2/30\n",
      "150496/150496 [==============================] - 97s 646us/step - loss: 0.6094 - acc: 0.6611 - val_loss: 0.6171 - val_acc: 0.6568\n",
      "Epoch 3/30\n",
      "150496/150496 [==============================] - 101s 672us/step - loss: 0.6026 - acc: 0.6664 - val_loss: 0.6189 - val_acc: 0.6560\n",
      "Epoch 4/30\n",
      "150496/150496 [==============================] - 90s 596us/step - loss: 0.5967 - acc: 0.6691 - val_loss: 0.6198 - val_acc: 0.6539\n"
     ]
    },
    {
     "data": {
      "text/plain": [
       "<keras.callbacks.History at 0x111d37358>"
      ]
     },
     "execution_count": 2,
     "metadata": {},
     "output_type": "execute_result"
    }
   ],
   "source": [
    "os.environ['KMP_DUPLICATE_LIB_OK']='True'\n",
    "\n",
    "data = data[[\"CLOSE_DEF_DIST\",\"DRIBBLES\",\"SHOT_DIST\",\"SHOT_CLOCK\",\"TOUCH_TIME\",\"CLOSEST_DEFENDER_PLAYER_ID\",\"PLAYER_ID\",\"ACTION_TYPE\",\"SHOT_MADE_FLAG\",'season']]\n",
    "data = pd.get_dummies(data,columns=[\"CLOSEST_DEFENDER_PLAYER_ID\",\"PLAYER_ID\",\"ACTION_TYPE\"],prefix=[\"CLOSEST_DEFENDER_PLAYER_ID\",\"PLAYER_ID\",\"ACTION_TYPE\"])\n",
    "data = data.dropna()\n",
    "data = data[data['season'] == '2013']\n",
    "\n",
    "data = data.drop(['season'], axis = 1)\n",
    "\n",
    "train_X = data.drop(['SHOT_MADE_FLAG'],axis = 1)\n",
    "train_y = to_categorical(data['SHOT_MADE_FLAG'])\n",
    "\n",
    "\n",
    "early_stopping_monitor = EarlyStopping(patience=3,min_delta = 0.1,monitor='val_acc')\n",
    "model_check_point = ModelCheckpoint(\"shot_make_model/model_sm.{epoch:02d}-{val_acc:.2f}.hdf5\",monitor = 'val_acc',mode = 'max',save_best_only = True)\n",
    "\n",
    "model= Sequential()\n",
    "n_cols = train_X.shape[1]\n",
    "model.add(Dense(250, activation='relu', input_shape=(n_cols,)))\n",
    "model.add(Dense(250, activation='relu'))\n",
    "model.add(Dense(250, activation='relu'))\n",
    "model.add(Dense(250, activation='relu'))\n",
    "model.add(Dense(2, activation='softmax'))\n",
    "model.compile(optimizer='adam', loss='categorical_crossentropy', metrics=['accuracy'])\n",
    "model.fit(train_X, train_y, epochs=30,validation_split=0.2, callbacks=[model_check_point,early_stopping_monitor])"
   ]
  },
  {
   "cell_type": "code",
   "execution_count": 3,
   "metadata": {},
   "outputs": [
    {
     "name": "stdout",
     "output_type": "stream",
     "text": [
      "Test set accuracy:  0.6555829634999192\n",
      "The model's brier score is:  0.2152612306392282\n",
      "The climatology's brier score is:  0.24782561508100734\n"
     ]
    },
    {
     "data": {
      "image/png": "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\n",
      "text/plain": [
       "<Figure size 432x288 with 1 Axes>"
      ]
     },
     "metadata": {
      "needs_background": "light"
     },
     "output_type": "display_data"
    }
   ],
   "source": [
    "# out-of-sample accuracy (2014-15 season)\n",
    "\n",
    "# reload the data for both seasons in order to create the correct dummy variables \n",
    "data13 = pd.read_csv(\"https://raw.githubusercontent.com/hwchase17/sportvu/master/joined_shots_2013.csv\")\n",
    "data13['season'] = ['2013' for _ in range(len(data13))]\n",
    "data14 = pd.read_csv(\"https://raw.githubusercontent.com/hwchase17/sportvu/master/joined_shots_2014.csv\")\n",
    "data14['season'] = ['2014' for _ in range(len(data14))]\n",
    "data = pd.concat([data13,data14],ignore_index=True)\n",
    "data = data[data[\"TOUCH_TIME\"] >= 0]\n",
    "test = data\n",
    "test = test[[\"CLOSE_DEF_DIST\",\"DRIBBLES\",\"SHOT_DIST\",\"SHOT_CLOCK\",\"TOUCH_TIME\",\"CLOSEST_DEFENDER_PLAYER_ID\",\"PLAYER_ID\",\"ACTION_TYPE\",\"SHOT_MADE_FLAG\",\"season\"]]\n",
    "test = pd.get_dummies(test,columns=[\"CLOSEST_DEFENDER_PLAYER_ID\",\"PLAYER_ID\",\"ACTION_TYPE\"],prefix=[\"CLOSEST_DEFENDER_PLAYER_ID\",\"PLAYER_ID\",\"ACTION_TYPE\"])\n",
    "test = test[test['season']== '2014']\n",
    "test = test.drop(['season'],axis = 1)\n",
    "test = test.dropna()\n",
    "\n",
    "test_X = test.drop(['SHOT_MADE_FLAG'],axis =1)\n",
    "test_y = to_categorical(test['SHOT_MADE_FLAG'])\n",
    "test_y_predictions = model.predict(test_X)\n",
    "\n",
    "print(\"Test set accuracy: \",np.sum(np.round(test_y_predictions[:,1]) == test['SHOT_MADE_FLAG'])/test.shape[0])\n",
    "\n",
    "# brier score\n",
    "\n",
    "print(\"The model's brier score is: \",  brier_score_loss(test['SHOT_MADE_FLAG'],test_y_predictions[:,1]))\n",
    "print(\"The climatology's brier score is: \", brier_score_loss(test['SHOT_MADE_FLAG'],(sum(test['SHOT_MADE_FLAG'])/len(test))*np.ones(test.shape[0])))\n",
    "\n",
    "observed, predicted = calibration_curve(test['SHOT_MADE_FLAG'], test_y_predictions[:,1], n_bins = 10)\n",
    "\n",
    "fig = plt.figure()\n",
    "ax1 = fig.add_subplot(111)\n",
    "\n",
    "x = np.linspace(0,1,10000)\n",
    "y = x\n",
    "ax1.plot(x,y,'-.g',label=\"Perfect Calibration\")\n",
    "\n",
    "ax1.scatter(predicted,observed,s=20, c='b', marker=\"s\", label = \"Neural Net\")\n",
    "\n",
    "\n",
    "plt.xlabel(\"Predicted Shot Make Probability\")\n",
    "plt.ylabel(\"Observed Shot Make Probability\")\n",
    "plt.legend(loc='upper left');\n",
    "plt.show()"
   ]
  },
  {
   "cell_type": "code",
   "execution_count": 4,
   "metadata": {},
   "outputs": [],
   "source": [
    "fout = open(\"hot_hand.csv\",\"w\")\n",
    "\n",
    "data13 = pd.read_csv(\"https://raw.githubusercontent.com/hwchase17/sportvu/master/joined_shots_2013.csv\")\n",
    "data13['season'] = ['2013' for _ in range(len(data13))]\n",
    "data14 = pd.read_csv(\"https://raw.githubusercontent.com/hwchase17/sportvu/master/joined_shots_2014.csv\")\n",
    "data14['season'] = ['2014' for _ in range(len(data14))]\n",
    "data = pd.concat([data13,data14],ignore_index=True)\n",
    "data = data[data[\"TOUCH_TIME\"] >= 0]\n",
    "test = data\n",
    "test = test[test['season']== '2014']\n",
    "test = test.dropna()\n",
    "test['prob'] = test_y_predictions[:,1]\n",
    "\n",
    "shots_pl = test.groupby('PLAYER_ID')\n",
    "\n",
    "players = []\n",
    "\n",
    "for p in test['PLAYER_ID'].unique():\n",
    "    if len(shots_pl.get_group(p)) > 1000:\n",
    "        players.append(p)\n",
    "\n",
    "for p in players: \n",
    "    player_df = shots_pl.get_group(p)\n",
    "    player_df_games = player_df.groupby(\"GAME_ID\")\n",
    "    tt_true = 0\n",
    "    tf_true = 0\n",
    "    # find the games that we have full data for the player\n",
    "    games_p = []\n",
    "    good_shots = 0\n",
    "    for g in player_df['GAME_ID'].unique():\n",
    "        tmp = player_df_games.get_group(g)\n",
    "        if len(tmp.SHOT_NUMBER)-max(tmp.SHOT_NUMBER)==0:\n",
    "            games_p.append(g)\n",
    "            good_shots += len(tmp.SHOT_NUMBER)\n",
    "            \n",
    "    for g in games_p:\n",
    "        tmp = list(player_df_games.get_group(g)['SHOT_MADE_FLAG'])\n",
    "        for i in range(len(list(tmp))-1):\n",
    "            if list(tmp)[i] == 1:\n",
    "                if list(tmp)[i+1] == 1:\n",
    "                    tt_true+=1\n",
    "                else:\n",
    "                    tf_true+=1\n",
    "    tt_prob_sim = []\n",
    "    for _ in range(1000):\n",
    "        tt_sim=0\n",
    "        tf_sim=0\n",
    "        for g in games_p:\n",
    "            # sample binomial for each shot\n",
    "            probs = list(player_df_games.get_group(g)['prob'])\n",
    "            tmp = [np.random.binomial(1,probs[i]) for i in range(len(probs))]\n",
    "            for i in range(len(list(tmp))-1):\n",
    "                if list(tmp)[i] == 1:\n",
    "                    if list(tmp)[i+1] == 1:\n",
    "                        tt_sim += 1\n",
    "                    else:\n",
    "                        tf_sim+=1\n",
    "        tt_prob_sim.append(tt_sim/(tt_sim+tf_sim))\n",
    "    print(data[data['PLAYER_ID'] == p].reset_index().iloc[0]['PLAYER_NAME'],\",\",tt_true/(tt_true+tf_true),\",\",np.mean(tt_prob_sim),\",\",0.001*len([tt_prob_sim[i] for i in range(len(tt_prob_sim)) if tt_prob_sim[i]>(tt_true/(tt_true+tf_true))]),file=fout)\n",
    "fout.close()\n"
    "        "
   ]
  },
  {
   "cell_type": "markdown",
   "metadata": {},
   "source": [
    "# Example from Figure 1"
   ]
  },
  {
   "cell_type": "code",
   "execution_count": 6,
   "metadata": {},
   "outputs": [
    {
     "name": "stdout",
     "output_type": "stream",
     "text": [
      "0.6 0.47336666666666666 0.074\n"
     ]
    }
   ],
   "source": [
    "sequence = [1,1,1,0,0,1,1,0,0,0,0,1,1,0,0,1,1,1,0,0]\n",
    "\n",
    "tt_true = 0\n",
    "tf_true = 0\n",
    "for i in range(len(list(sequence))-1):\n",
    "    if list(sequence)[i] == 1:\n",
    "        if list(sequence)[i+1] == 1:\n",
    "            tt_true+=1\n",
    "        else:\n",
    "            tf_true+=1\n",
    "tt_prob_sim = []\n",
    "for _ in range(1000):\n",
    "    tt_sim=0\n",
    "    tf_sim=0\n",
    "    tmp = np.random.permutation(sequence)\n",
    "    for i in range(len(list(tmp))-1):\n",
    "        if list(tmp)[i] == 1:\n",
    "            if list(tmp)[i+1] == 1:\n",
    "                tt_sim += 1\n",
    "            else:\n",
    "                tf_sim+=1\n",
    "    tt_prob_sim.append(tt_sim/(tt_sim+tf_sim))\n",
    "print(tt_true/(tt_true+tf_true),np.mean(tt_prob_sim),0.001*len([tt_prob_sim[i] for i in range(len(tt_prob_sim)) if tt_prob_sim[i]>(tt_true/(tt_true+tf_true))]))\n",
    "        "
   ]
  },
  {
   "cell_type": "code",
   "execution_count": 7,
   "metadata": {},
   "outputs": [
    {
     "data": {
      "image/png": "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\n",
      "text/plain": [
       "<Figure size 432x288 with 1 Axes>"
      ]
     },
     "metadata": {},
     "output_type": "display_data"
    }
   ],
   "source": [
    "import seaborn as sns, numpy as np\n",
    "\n",
    "sns.set(); np.random.seed(0)\n",
    "ax = sns.distplot(tt_prob_sim,hist=False,kde=True, \n",
    "             color = 'darkblue', \n",
    "             hist_kws={'edgecolor':'black'},\n",
    "             kde_kws={'linewidth': 4})"
   ]
  }
 ],
 "metadata": {
  "kernelspec": {
   "display_name": "Python 3",
   "language": "python",
   "name": "python3"
  },
  "language_info": {
   "codemirror_mode": {
    "name": "ipython",
    "version": 3
   },
   "file_extension": ".py",
   "mimetype": "text/x-python",
   "name": "python",
   "nbconvert_exporter": "python",
   "pygments_lexer": "ipython3",
   "version": "3.6.8"
  }
 },
 "nbformat": 4,
 "nbformat_minor": 2
}

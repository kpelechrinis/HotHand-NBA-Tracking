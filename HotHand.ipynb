{
 "cells": [
  {
   "cell_type": "code",
   "execution_count": 1,
   "metadata": {},
   "outputs": [
    {
     "name": "stderr",
     "output_type": "stream",
     "text": [
      "Using TensorFlow backend.\n"
     ]
    }
   ],
   "source": [
    "import numpy as np\n",
    "import scipy as sp\n",
    "import pandas as pd\n",
    "from scipy import stats\n",
    "import os\n",
    "import keras\n",
    "from keras.utils import to_categorical\n",
    "from keras import Sequential\n",
    "from keras.layers import Dense\n",
    "from keras.callbacks import EarlyStopping\n",
    "from keras.callbacks import ModelCheckpoint\n",
    "from sklearn.model_selection import train_test_split\n",
    "import matplotlib.pyplot as plt\n",
    "from sklearn.metrics import brier_score_loss\n",
    "from sklearn.calibration import calibration_curve\n",
    "import warnings\n",
    "warnings.filterwarnings(\"ignore\")\n",
    "\n",
    "# The following data are obtained from https://github.com/hwchase17/sportvu\n",
    "\n",
    "data13 = pd.read_csv(\"https://raw.githubusercontent.com/hwchase17/sportvu/master/joined_shots_2013.csv\")\n",
    "data13['season'] = ['2013' for _ in range(len(data13))]\n",
    "data14 = pd.read_csv(\"https://raw.githubusercontent.com/hwchase17/sportvu/master/joined_shots_2014.csv\")\n",
    "data14['season'] = ['2014' for _ in range(len(data14))]\n",
    "\n",
    "\n",
    "data = pd.concat([data13,data14],ignore_index=True)\n",
    "data = data[data[\"TOUCH_TIME\"] >= 0]\n"
   ]
  },
  {
   "cell_type": "code",
   "execution_count": 2,
   "metadata": {},
   "outputs": [],
   "source": [
    "os.environ['KMP_DUPLICATE_LIB_OK']='True'\n",
    "\n",
    "# if you want to use the pre-trained model the variable TRAIN_MODEL should be set to FALSE\n",
    "TRAIN_MODEL = False\n",
    "\n",
    "if TRAIN_MODEL:\n",
    "\n",
    "    data = data[[\"CLOSE_DEF_DIST\",\"DRIBBLES\",\"SHOT_DIST\",\"SHOT_CLOCK\",\"TOUCH_TIME\",\"CLOSEST_DEFENDER_PLAYER_ID\",\"PLAYER_ID\",\"ACTION_TYPE\",\"SHOT_MADE_FLAG\",'season']]\n",
    "    data = pd.get_dummies(data,columns=[\"CLOSEST_DEFENDER_PLAYER_ID\",\"PLAYER_ID\",\"ACTION_TYPE\"],prefix=[\"CLOSEST_DEFENDER_PLAYER_ID\",\"PLAYER_ID\",\"ACTION_TYPE\"])\n",
    "    data = data.dropna()\n",
    "    data = data[data['season'] == '2013']\n",
    "\n",
    "    data = data.drop(['season'], axis = 1)\n",
    "\n",
    "    train_X = data.drop(['SHOT_MADE_FLAG'],axis = 1)\n",
    "    train_y = to_categorical(data['SHOT_MADE_FLAG'])\n",
    "\n",
    "\n",
    "    early_stopping_monitor = EarlyStopping(patience=3,min_delta = 0.01,monitor='val_acc')\n",
    "    model_check_point = ModelCheckpoint(\"shot_make_model/model_sm.{epoch:02d}-{val_acc:.2f}.hdf5\",monitor = 'val_acc',mode = 'max',save_best_only = True)\n",
    "\n",
    "    model= Sequential()\n",
    "    n_cols = train_X.shape[1]\n",
    "    model.add(Dense(250, activation='relu', input_shape=(n_cols,)))\n",
    "    model.add(Dense(250, activation='relu'))\n",
    "    model.add(Dense(250, activation='relu'))\n",
    "    model.add(Dense(250, activation='relu'))\n",
    "    model.add(Dense(2, activation='softmax'))\n",
    "    model.compile(optimizer='adam', loss='categorical_crossentropy', metrics=['accuracy'])\n",
    "    model.fit(train_X, train_y, epochs=5,validation_split=0.2, callbacks=[model_check_point,early_stopping_monitor])"
   ]
  },
  {
   "cell_type": "code",
   "execution_count": 3,
   "metadata": {},
   "outputs": [
    {
     "name": "stdout",
     "output_type": "stream",
     "text": [
      "WARNING:tensorflow:From /Users/kpele/anaconda3/lib/python3.6/site-packages/tensorflow/python/framework/op_def_library.py:263: colocate_with (from tensorflow.python.framework.ops) is deprecated and will be removed in a future version.\n",
      "Instructions for updating:\n",
      "Colocations handled automatically by placer.\n",
      "WARNING:tensorflow:From /Users/kpele/anaconda3/lib/python3.6/site-packages/tensorflow/python/ops/math_ops.py:3066: to_int32 (from tensorflow.python.ops.math_ops) is deprecated and will be removed in a future version.\n",
      "Instructions for updating:\n",
      "Use tf.cast instead.\n",
      "Test set accuracy:  0.6540393109886156\n",
      "The model's brier score is:  0.2161382274437964\n",
      "The climatology's brier score is:  0.24782561508100734\n"
     ]
    },
    {
     "data": {
      "image/png": "[encoded data removed]",
      "text/plain": [
       "<Figure size 432x288 with 1 Axes>"
      ]
     },
     "metadata": {
      "needs_background": "light"
     },
     "output_type": "display_data"
    }
   ],
   "source": [
    "# out-of-sample accuracy (2014-15 season)\n",
    "\n",
    "# load the best model based on the validation set and the early stopping\n",
    "m = [f for f in sorted(os.listdir('shot_make_model')) if 'hdf5' in f][-1]\n",
    "model = keras.models.load_model('shot_make_model/'+m)\n",
    "\n",
    "# reload the data for both seasons in order to create the correct dummy variables \n",
    "data13 = pd.read_csv(\"https://raw.githubusercontent.com/hwchase17/sportvu/master/joined_shots_2013.csv\")\n",
    "data13['season'] = ['2013' for _ in range(len(data13))]\n",
    "data14 = pd.read_csv(\"https://raw.githubusercontent.com/hwchase17/sportvu/master/joined_shots_2014.csv\")\n",
    "data14['season'] = ['2014' for _ in range(len(data14))]\n",
    "data = pd.concat([data13,data14],ignore_index=True)\n",
    "data = data[data[\"TOUCH_TIME\"] >= 0]\n",
    "test = data\n",
    "test = test[[\"CLOSE_DEF_DIST\",\"DRIBBLES\",\"SHOT_DIST\",\"SHOT_CLOCK\",\"TOUCH_TIME\",\"CLOSEST_DEFENDER_PLAYER_ID\",\"PLAYER_ID\",\"ACTION_TYPE\",\"SHOT_MADE_FLAG\",\"season\"]]\n",
    "test = pd.get_dummies(test,columns=[\"CLOSEST_DEFENDER_PLAYER_ID\",\"PLAYER_ID\",\"ACTION_TYPE\"],prefix=[\"CLOSEST_DEFENDER_PLAYER_ID\",\"PLAYER_ID\",\"ACTION_TYPE\"])\n",
    "test = test[test['season']== '2014']\n",
    "test = test.drop(['season'],axis = 1)\n",
    "test = test.dropna()\n",
    "\n",
    "test_X = test.drop(['SHOT_MADE_FLAG'],axis =1)\n",
    "test_y = to_categorical(test['SHOT_MADE_FLAG'])\n",
    "test_y_predictions = model.predict(test_X)\n",
    "\n",
    "print(\"Test set accuracy: \",np.sum(np.round(test_y_predictions[:,1]) == test['SHOT_MADE_FLAG'])/test.shape[0])\n",
    "\n",
    "# brier score\n",
    "\n",
    "print(\"The model's brier score is: \",  brier_score_loss(test['SHOT_MADE_FLAG'],test_y_predictions[:,1]))\n",
    "print(\"The climatology's brier score is: \", brier_score_loss(test['SHOT_MADE_FLAG'],(sum(test['SHOT_MADE_FLAG'])/len(test))*np.ones(test.shape[0])))\n",
    "\n",
    "observed, predicted = calibration_curve(test['SHOT_MADE_FLAG'], test_y_predictions[:,1], n_bins = 10)\n",
    "\n",
    "fig = plt.figure()\n",
    "ax1 = fig.add_subplot(111)\n",
    "\n",
    "x = np.linspace(0,1,10000)\n",
    "y = x\n",
    "ax1.plot(x,y,'-.g',label=\"Perfect Calibration\")\n",
    "\n",
    "ax1.scatter(predicted,observed,s=20, c='b', marker=\"s\", label = \"Neural Net\")\n",
    "\n",
    "\n",
    "plt.xlabel(\"Predicted Shot Make Probability\")\n",
    "plt.ylabel(\"Observed Shot Make Probability\")\n",
    "plt.legend(loc='upper left');\n",
    "plt.show()"
   ]
  },
  {
   "cell_type": "code",
   "execution_count": 4,
   "metadata": {},
   "outputs": [],
   "source": [
    "fout = open(\"hot_hand.csv\",\"w\")\n",
    "\n",
    "data13 = pd.read_csv(\"https://raw.githubusercontent.com/hwchase17/sportvu/master/joined_shots_2013.csv\")\n",
    "data13['season'] = ['2013' for _ in range(len(data13))]\n",
    "data14 = pd.read_csv(\"https://raw.githubusercontent.com/hwchase17/sportvu/master/joined_shots_2014.csv\")\n",
    "data14['season'] = ['2014' for _ in range(len(data14))]\n",
    "data = pd.concat([data13,data14],ignore_index=True)\n",
    "data = data[data[\"TOUCH_TIME\"] >= 0]\n",
    "test = data\n",
    "test = test[test['season']== '2014']\n",
    "test = test.dropna()\n",
    "test['prob'] = test_y_predictions[:,1]\n",
    "\n",
    "shots_pl = test.groupby('PLAYER_ID')\n",
    "\n",
    "players = []\n",
    "\n",
    "for p in test['PLAYER_ID'].unique():\n",
    "    if len(shots_pl.get_group(p)) > 1000:\n",
    "        players.append(p)\n",
    "\n",
    "for p in players: \n",
    "    player_df = shots_pl.get_group(p)\n",
    "    player_df_games = player_df.groupby(\"GAME_ID\")\n",
    "    tt_true = 0\n",
    "    tf_true = 0\n",
    "    # find the games that we have full data for the player\n",
    "    games_p = []\n",
    "    good_shots = 0\n",
    "    for g in player_df['GAME_ID'].unique():\n",
    "        tmp = player_df_games.get_group(g)\n",
    "        if len(tmp.SHOT_NUMBER)-max(tmp.SHOT_NUMBER)==0:\n",
    "            games_p.append(g)\n",
    "            good_shots += len(tmp.SHOT_NUMBER)\n",
    "            \n",
    "    for g in games_p:\n",
    "        tmp = list(player_df_games.get_group(g)['SHOT_MADE_FLAG'])\n",
    "        for i in range(len(list(tmp))-1):\n",
    "            if list(tmp)[i] == 1:\n",
    "                if list(tmp)[i+1] == 1:\n",
    "                    tt_true+=1\n",
    "                else:\n",
    "                    tf_true+=1\n",
    "    tt_prob_sim = []\n",
    "    for _ in range(1000):\n",
    "        tt_sim=0\n",
    "        tf_sim=0\n",
    "        for g in games_p:\n",
    "            # sample binomial for each shot\n",
    "            probs = list(player_df_games.get_group(g)['prob'])\n",
    "            tmp = [np.random.binomial(1,probs[i]) for i in range(len(probs))]\n",
    "            for i in range(len(list(tmp))-1):\n",
    "                if list(tmp)[i] == 1:\n",
    "                    if list(tmp)[i+1] == 1:\n",
    "                        tt_sim += 1\n",
    "                    else:\n",
    "                        tf_sim+=1\n",
    "        tt_prob_sim.append(tt_sim/(tt_sim+tf_sim))\n",
    "    print(data[data['PLAYER_ID'] == p].reset_index().iloc[0]['PLAYER_NAME'],\",\",tt_true/(tt_true+tf_true),\",\",np.mean(tt_prob_sim),\",\",0.001*len([tt_prob_sim[i] for i in range(len(tt_prob_sim)) if tt_prob_sim[i]>(tt_true/(tt_true+tf_true))]), file = fout)\n",
    "\n",
    "fout.close()"
   ]
  },
  {
   "cell_type": "markdown",
   "metadata": {},
   "source": [
    "# Figure 1 example"
   ]
  },
  {
   "cell_type": "code",
   "execution_count": 5,
   "metadata": {},
   "outputs": [
    {
     "name": "stdout",
     "output_type": "stream",
     "text": [
      "0.6 0.4714111111111111 0.095\n"
     ]
    }
   ],
   "source": [
    "sequence = [1,1,1,0,0,1,1,0,0,0,0,1,1,0,0,1,1,1,0,0]\n",
    "\n",
    "tt_true = 0\n",
    "tf_true = 0\n",
    "for i in range(len(list(sequence))-1):\n",
    "    if list(sequence)[i] == 1:\n",
    "        if list(sequence)[i+1] == 1:\n",
    "            tt_true+=1\n",
    "        else:\n",
    "            tf_true+=1\n",
    "tt_prob_sim = []\n",
    "for _ in range(1000):\n",
    "    tt_sim=0\n",
    "    tf_sim=0\n",
    "    tmp = np.random.permutation(sequence)\n",
    "    for i in range(len(list(tmp))-1):\n",
    "        if list(tmp)[i] == 1:\n",
    "            if list(tmp)[i+1] == 1:\n",
    "                tt_sim += 1\n",
    "            else:\n",
    "                tf_sim+=1\n",
    "    tt_prob_sim.append(tt_sim/(tt_sim+tf_sim))\n",
    "print(tt_true/(tt_true+tf_true),np.mean(tt_prob_sim),0.001*len([tt_prob_sim[i] for i in range(len(tt_prob_sim)) if tt_prob_sim[i]>(tt_true/(tt_true+tf_true))]))\n",
    "        "
   ]
  },
  {
   "cell_type": "code",
   "execution_count": 6,
   "metadata": {},
   "outputs": [
    {
     "data": {
      "image/png": "[encoded data removed]",
      "text/plain": [
       "<Figure size 432x288 with 1 Axes>"
      ]
     },
     "metadata": {},
     "output_type": "display_data"
    }
   ],
   "source": [
    "import seaborn as sns, numpy as np\n",
    "\n",
    "sns.set(); np.random.seed(0)\n",
    "ax = sns.distplot(tt_prob_sim,hist=False,kde=True, \n",
    "             color = 'darkblue', \n",
    "             hist_kws={'edgecolor':'black'},\n",
    "             kde_kws={'linewidth': 4})"
   ]
  },
  {
   "cell_type": "code",
   "execution_count": null,
   "metadata": {},
   "outputs": [],
   "source": []
  }
 ],
 "metadata": {
  "kernelspec": {
   "display_name": "Python 3",
   "language": "python",
   "name": "python3"
  },
  "language_info": {
   "codemirror_mode": {
    "name": "ipython",
    "version": 3
   },
   "file_extension": ".py",
   "mimetype": "text/x-python",
   "name": "python",
   "nbconvert_exporter": "python",
   "pygments_lexer": "ipython3",
   "version": "3.6.8"
  }
 },
 "nbformat": 4,
 "nbformat_minor": 2
}
